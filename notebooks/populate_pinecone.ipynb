{
 "cells": [
  {
   "cell_type": "code",
   "execution_count": 3,
   "metadata": {},
   "outputs": [
    {
     "name": "stdout",
     "output_type": "stream",
     "text": [
      "Solutions upserted!\n"
     ]
    }
   ],
   "source": [
    "# /home/vincent/ixome/notebooks/populate_pinecone.ipynb\n",
    "import sys\n",
    "sys.path.append('/home/vincent/ixome')\n",
    "from pinecone import Pinecone\n",
    "from core.config import PINECONE_API_KEY\n",
    "\n",
    "pc = Pinecone(api_key=PINECONE_API_KEY)\n",
    "index = pc.Index(\"troubleshooter-index\")\n",
    "\n",
    "# Clear existing vectors to avoid test solutions\n",
    "index.delete(delete_all=True)\n",
    "\n",
    "# Sample solutions (use real embeddings in production)\n",
    "solutions = [\n",
    "    {\"id\": \"no_sound_solution\", \"solution\": \"Please check if the sound system is turned on and cables are connected.\"},\n",
    "    {\"id\": \"tv_not_turning_on_solution\", \"solution\": \"Please check the power cable and ensure the TV is plugged in.\"},\n",
    "    {\"id\": \"settings_issue_solution\", \"solution\": \"Navigate to the settings menu and verify the correct input source is selected.\"},\n",
    "    {\"id\": \"error_code_solution\", \"solution\": \"The flashing light indicates an error; please note the pattern and consult the device manual.\"}\n",
    "]\n",
    "\n",
    "for solution in solutions:\n",
    "    vector = [0.1] * 1536  # Placeholder\n",
    "    metadata = {\"solution\": solution[\"solution\"]}\n",
    "    index.upsert(vectors=[(solution[\"id\"], vector, metadata)])\n",
    "\n",
    "print(\"Solutions upserted!\")"
   ]
  }
 ],
 "metadata": {
  "kernelspec": {
   "display_name": "ixome",
   "language": "python",
   "name": "python3"
  },
  "language_info": {
   "codemirror_mode": {
    "name": "ipython",
    "version": 3
   },
   "file_extension": ".py",
   "mimetype": "text/x-python",
   "name": "python",
   "nbconvert_exporter": "python",
   "pygments_lexer": "ipython3",
   "version": "3.11.2"
  }
 },
 "nbformat": 4,
 "nbformat_minor": 2
}
